{
  "nbformat": 4,
  "nbformat_minor": 0,
  "metadata": {
    "kernelspec": {
      "display_name": "Python 3",
      "language": "python",
      "name": "python3"
    },
    "language_info": {
      "codemirror_mode": {
        "name": "ipython",
        "version": 3
      },
      "file_extension": ".py",
      "mimetype": "text/x-python",
      "name": "python",
      "nbconvert_exporter": "python",
      "pygments_lexer": "ipython3",
      "version": "3.7.9"
    },
    "papermill": {
      "default_parameters": {},
      "duration": 1487.220735,
      "end_time": "2021-02-01T05:23:03.754500",
      "environment_variables": {},
      "exception": null,
      "input_path": "__notebook__.ipynb",
      "output_path": "__notebook__.ipynb",
      "parameters": {},
      "start_time": "2021-02-01T04:58:16.533765",
      "version": "2.2.2"
    },
    "colab": {
      "name": "cnn-pytorch.ipynb",
      "provenance": []
    }
  },
  "cells": [
    {
      "cell_type": "markdown",
      "metadata": {
        "papermill": {
          "duration": 0.01538,
          "end_time": "2021-02-01T04:58:21.655913",
          "exception": false,
          "start_time": "2021-02-01T04:58:21.640533",
          "status": "completed"
        },
        "tags": [],
        "id": "OFvFuyyiPrqH"
      },
      "source": [
        "## Import Libraries"
      ]
    },
    {
      "cell_type": "code",
      "metadata": {
        "execution": {
          "iopub.execute_input": "2021-02-01T04:58:21.690245Z",
          "iopub.status.busy": "2021-02-01T04:58:21.689737Z",
          "iopub.status.idle": "2021-02-01T04:58:24.545551Z",
          "shell.execute_reply": "2021-02-01T04:58:24.544089Z"
        },
        "papermill": {
          "duration": 2.87553,
          "end_time": "2021-02-01T04:58:24.545749",
          "exception": false,
          "start_time": "2021-02-01T04:58:21.670219",
          "status": "completed"
        },
        "tags": [],
        "id": "YxtM_LwuPrqQ"
      },
      "source": [
        "import pandas as pd\n",
        "import numpy as np\n",
        "\n",
        "import gensim\n",
        "from gensim.utils import simple_preprocess\n",
        "from gensim.parsing.porter import PorterStemmer\n",
        "from gensim.models import Word2Vec\n",
        "\n",
        "import torch\n",
        "import torch.nn as nn\n",
        "import torch.nn.functional as F\n",
        "import torch.optim as optim\n",
        "\n",
        "from sklearn.model_selection import train_test_split\n",
        "from sklearn.metrics import classification_report,confusion_matrix\n",
        "\n",
        "import matplotlib.pyplot as plt\n",
        "import seaborn as sns"
      ],
      "execution_count": null,
      "outputs": []
    },
    {
      "cell_type": "code",
      "metadata": {
        "colab": {
          "base_uri": "https://localhost:8080/"
        },
        "id": "8USJxBg7Q4dj",
        "outputId": "4ae5975e-e936-436d-cbcb-8d588b26e705"
      },
      "source": [
        "from google.colab import drive\n",
        "\n",
        "drive.mount('/content/gdrive')"
      ],
      "execution_count": null,
      "outputs": [
        {
          "output_type": "stream",
          "text": [
            "Mounted at /content/gdrive\n"
          ],
          "name": "stdout"
        }
      ]
    },
    {
      "cell_type": "code",
      "metadata": {
        "colab": {
          "base_uri": "https://localhost:8080/"
        },
        "id": "5y3wKiQYRETn",
        "outputId": "9b968371-94f5-4e55-e307-fa6b2c08062d"
      },
      "source": [
        "!ls gdrive/MyDrive/ML/"
      ],
      "execution_count": null,
      "outputs": [
        {
          "output_type": "stream",
          "text": [
            "Test.csv  Train.csv  Valid.csv\n"
          ],
          "name": "stdout"
        }
      ]
    },
    {
      "cell_type": "code",
      "metadata": {
        "execution": {
          "iopub.execute_input": "2021-02-01T04:58:24.586164Z",
          "iopub.status.busy": "2021-02-01T04:58:24.585633Z",
          "iopub.status.idle": "2021-02-01T04:58:25.592646Z",
          "shell.execute_reply": "2021-02-01T04:58:25.591744Z"
        },
        "papermill": {
          "duration": 1.031796,
          "end_time": "2021-02-01T04:58:25.592794",
          "exception": false,
          "start_time": "2021-02-01T04:58:24.560998",
          "status": "completed"
        },
        "tags": [],
        "id": "0jU-xB5kPrqS"
      },
      "source": [
        "# Read dataset\n",
        "train_df = pd.read_csv(\"gdrive/MyDrive/ML/Train.csv\")"
      ],
      "execution_count": null,
      "outputs": []
    },
    {
      "cell_type": "code",
      "metadata": {
        "execution": {
          "iopub.execute_input": "2021-02-01T04:58:25.637323Z",
          "iopub.status.busy": "2021-02-01T04:58:25.636537Z",
          "iopub.status.idle": "2021-02-01T04:58:25.644275Z",
          "shell.execute_reply": "2021-02-01T04:58:25.644699Z"
        },
        "papermill": {
          "duration": 0.036974,
          "end_time": "2021-02-01T04:58:25.644824",
          "exception": false,
          "start_time": "2021-02-01T04:58:25.607850",
          "status": "completed"
        },
        "tags": [],
        "colab": {
          "base_uri": "https://localhost:8080/",
          "height": 195
        },
        "id": "q7YBAfySPrqS",
        "outputId": "fdb6e36e-58dd-4712-f4bf-223af175a505"
      },
      "source": [
        "# first few lines\n",
        "train_df.head()"
      ],
      "execution_count": null,
      "outputs": [
        {
          "output_type": "execute_result",
          "data": {
            "text/html": [
              "<div>\n",
              "<style scoped>\n",
              "    .dataframe tbody tr th:only-of-type {\n",
              "        vertical-align: middle;\n",
              "    }\n",
              "\n",
              "    .dataframe tbody tr th {\n",
              "        vertical-align: top;\n",
              "    }\n",
              "\n",
              "    .dataframe thead th {\n",
              "        text-align: right;\n",
              "    }\n",
              "</style>\n",
              "<table border=\"1\" class=\"dataframe\">\n",
              "  <thead>\n",
              "    <tr style=\"text-align: right;\">\n",
              "      <th></th>\n",
              "      <th>text</th>\n",
              "      <th>label</th>\n",
              "    </tr>\n",
              "  </thead>\n",
              "  <tbody>\n",
              "    <tr>\n",
              "      <th>0</th>\n",
              "      <td>I grew up (b. 1965) watching and loving the Th...</td>\n",
              "      <td>0</td>\n",
              "    </tr>\n",
              "    <tr>\n",
              "      <th>1</th>\n",
              "      <td>When I put this movie in my DVD player, and sa...</td>\n",
              "      <td>0</td>\n",
              "    </tr>\n",
              "    <tr>\n",
              "      <th>2</th>\n",
              "      <td>Why do people who do not know what a particula...</td>\n",
              "      <td>0</td>\n",
              "    </tr>\n",
              "    <tr>\n",
              "      <th>3</th>\n",
              "      <td>Even though I have great interest in Biblical ...</td>\n",
              "      <td>0</td>\n",
              "    </tr>\n",
              "    <tr>\n",
              "      <th>4</th>\n",
              "      <td>Im a die hard Dads Army fan and nothing will e...</td>\n",
              "      <td>1</td>\n",
              "    </tr>\n",
              "  </tbody>\n",
              "</table>\n",
              "</div>"
            ],
            "text/plain": [
              "                                                text  label\n",
              "0  I grew up (b. 1965) watching and loving the Th...      0\n",
              "1  When I put this movie in my DVD player, and sa...      0\n",
              "2  Why do people who do not know what a particula...      0\n",
              "3  Even though I have great interest in Biblical ...      0\n",
              "4  Im a die hard Dads Army fan and nothing will e...      1"
            ]
          },
          "metadata": {
            "tags": []
          },
          "execution_count": 9
        }
      ]
    },
    {
      "cell_type": "code",
      "metadata": {
        "execution": {
          "iopub.execute_input": "2021-02-01T04:58:25.679203Z",
          "iopub.status.busy": "2021-02-01T04:58:25.678696Z",
          "iopub.status.idle": "2021-02-01T04:58:25.684015Z",
          "shell.execute_reply": "2021-02-01T04:58:25.683554Z"
        },
        "papermill": {
          "duration": 0.023942,
          "end_time": "2021-02-01T04:58:25.684126",
          "exception": false,
          "start_time": "2021-02-01T04:58:25.660184",
          "status": "completed"
        },
        "tags": [],
        "colab": {
          "base_uri": "https://localhost:8080/"
        },
        "id": "YrYS7R6yPrqT",
        "outputId": "2bdca47e-0678-428c-86e1-13d4abe6bea1"
      },
      "source": [
        "# shape of dataset\n",
        "train_df.shape"
      ],
      "execution_count": null,
      "outputs": [
        {
          "output_type": "execute_result",
          "data": {
            "text/plain": [
              "(40000, 2)"
            ]
          },
          "metadata": {
            "tags": []
          },
          "execution_count": 10
        }
      ]
    },
    {
      "cell_type": "markdown",
      "metadata": {
        "papermill": {
          "duration": 0.015097,
          "end_time": "2021-02-01T04:58:25.714778",
          "exception": false,
          "start_time": "2021-02-01T04:58:25.699681",
          "status": "completed"
        },
        "tags": [],
        "id": "SKlV_y2LPrqU"
      },
      "source": [
        "Let's see weather our dataset is balanced or imbalanced"
      ]
    },
    {
      "cell_type": "code",
      "metadata": {
        "execution": {
          "iopub.execute_input": "2021-02-01T04:58:25.754232Z",
          "iopub.status.busy": "2021-02-01T04:58:25.753679Z",
          "iopub.status.idle": "2021-02-01T04:58:25.890888Z",
          "shell.execute_reply": "2021-02-01T04:58:25.890433Z"
        },
        "papermill": {
          "duration": 0.158348,
          "end_time": "2021-02-01T04:58:25.890994",
          "exception": false,
          "start_time": "2021-02-01T04:58:25.732646",
          "status": "completed"
        },
        "tags": [],
        "colab": {
          "base_uri": "https://localhost:8080/",
          "height": 350
        },
        "id": "vQw-165APrqU",
        "outputId": "3f19a37f-8519-4706-8cb5-18e12ca3ff76"
      },
      "source": [
        "sns.countplot(train_df['label'])"
      ],
      "execution_count": null,
      "outputs": [
        {
          "output_type": "stream",
          "text": [
            "/usr/local/lib/python3.7/dist-packages/seaborn/_decorators.py:43: FutureWarning: Pass the following variable as a keyword arg: x. From version 0.12, the only valid positional argument will be `data`, and passing other arguments without an explicit keyword will result in an error or misinterpretation.\n",
            "  FutureWarning\n"
          ],
          "name": "stderr"
        },
        {
          "output_type": "execute_result",
          "data": {
            "text/plain": [
              "<matplotlib.axes._subplots.AxesSubplot at 0x7f5364d03ed0>"
            ]
          },
          "metadata": {
            "tags": []
          },
          "execution_count": 11
        },
        {
          "output_type": "display_data",
          "data": {
            "image/png": "[encoded data removed]",
            "text/plain": [
              "<Figure size 432x288 with 1 Axes>"
            ]
          },
          "metadata": {
            "tags": [],
            "needs_background": "light"
          }
        }
      ]
    },
    {
      "cell_type": "markdown",
      "metadata": {
        "papermill": {
          "duration": 0.016548,
          "end_time": "2021-02-01T04:58:25.924439",
          "exception": false,
          "start_time": "2021-02-01T04:58:25.907891",
          "status": "completed"
        },
        "tags": [],
        "id": "4ZuDWFbgPrqV"
      },
      "source": [
        "From above graph we can see that our dataset is balanced dataset.So that's great"
      ]
    },
    {
      "cell_type": "markdown",
      "metadata": {
        "papermill": {
          "duration": 0.016561,
          "end_time": "2021-02-01T04:58:25.957738",
          "exception": false,
          "start_time": "2021-02-01T04:58:25.941177",
          "status": "completed"
        },
        "tags": [],
        "id": "ZKT5srlQPrqV"
      },
      "source": [
        "## Tokenization"
      ]
    },
    {
      "cell_type": "markdown",
      "metadata": {
        "papermill": {
          "duration": 0.016597,
          "end_time": "2021-02-01T04:58:25.990816",
          "exception": false,
          "start_time": "2021-02-01T04:58:25.974219",
          "status": "completed"
        },
        "tags": [],
        "id": "l20cUX_zPrqV"
      },
      "source": [
        "**Tokenization** is the process of tokenizing or splitting a string, text into a list of tokens.  "
      ]
    },
    {
      "cell_type": "code",
      "metadata": {
        "execution": {
          "iopub.execute_input": "2021-02-01T04:58:26.036816Z",
          "iopub.status.busy": "2021-02-01T04:58:26.031573Z",
          "iopub.status.idle": "2021-02-01T04:59:01.396717Z",
          "shell.execute_reply": "2021-02-01T04:59:01.396184Z"
        },
        "papermill": {
          "duration": 35.389385,
          "end_time": "2021-02-01T04:59:01.396866",
          "exception": false,
          "start_time": "2021-02-01T04:58:26.007481",
          "status": "completed"
        },
        "tags": [],
        "id": "Ym0wvgv1PrqV"
      },
      "source": [
        "train_df['tokenized_text'] = [simple_preprocess(line, deacc=True) for line in train_df['text']]"
      ],
      "execution_count": null,
      "outputs": []
    },
    {
      "cell_type": "markdown",
      "metadata": {
        "papermill": {
          "duration": 0.016473,
          "end_time": "2021-02-01T04:59:01.430797",
          "exception": false,
          "start_time": "2021-02-01T04:59:01.414324",
          "status": "completed"
        },
        "tags": [],
        "id": "iQywj9ajPrqW"
      },
      "source": [
        "## Stemming"
      ]
    },
    {
      "cell_type": "markdown",
      "metadata": {
        "papermill": {
          "duration": 0.016586,
          "end_time": "2021-02-01T04:59:01.464066",
          "exception": false,
          "start_time": "2021-02-01T04:59:01.447480",
          "status": "completed"
        },
        "tags": [],
        "id": "t8ZTECI9PrqW"
      },
      "source": [
        "**Stemming** is the process of reducing a word to its word stem that affixes to suffixes and prefixes or to the roots of words known as a lemma.The input to the stemmer is tokenized words.\n",
        "A stemming algorithm reduces the words “chocolates”, “chocolatey”, “choco” to the root word, “chocolate”   "
      ]
    },
    {
      "cell_type": "code",
      "metadata": {
        "execution": {
          "iopub.execute_input": "2021-02-01T04:59:01.530435Z",
          "iopub.status.busy": "2021-02-01T04:59:01.515078Z",
          "iopub.status.idle": "2021-02-01T05:00:01.323368Z",
          "shell.execute_reply": "2021-02-01T05:00:01.323787Z"
        },
        "papermill": {
          "duration": 59.843074,
          "end_time": "2021-02-01T05:00:01.323932",
          "exception": false,
          "start_time": "2021-02-01T04:59:01.480858",
          "status": "completed"
        },
        "tags": [],
        "colab": {
          "base_uri": "https://localhost:8080/",
          "height": 402
        },
        "id": "lGSH_yThPrqX",
        "outputId": "c1036984-ace7-4ebe-a279-a38bd3eb85b6"
      },
      "source": [
        "porter_stemmer = PorterStemmer()\n",
        "train_df['stemmed_tokens'] = [[porter_stemmer.stem(word) for word in tokens] for tokens in train_df['tokenized_text']]\n",
        "train_df"
      ],
      "execution_count": null,
      "outputs": [
        {
          "output_type": "execute_result",
          "data": {
            "text/html": [
              "<div>\n",
              "<style scoped>\n",
              "    .dataframe tbody tr th:only-of-type {\n",
              "        vertical-align: middle;\n",
              "    }\n",
              "\n",
              "    .dataframe tbody tr th {\n",
              "        vertical-align: top;\n",
              "    }\n",
              "\n",
              "    .dataframe thead th {\n",
              "        text-align: right;\n",
              "    }\n",
              "</style>\n",
              "<table border=\"1\" class=\"dataframe\">\n",
              "  <thead>\n",
              "    <tr style=\"text-align: right;\">\n",
              "      <th></th>\n",
              "      <th>text</th>\n",
              "      <th>label</th>\n",
              "      <th>tokenized_text</th>\n",
              "      <th>stemmed_tokens</th>\n",
              "    </tr>\n",
              "  </thead>\n",
              "  <tbody>\n",
              "    <tr>\n",
              "      <th>0</th>\n",
              "      <td>I grew up (b. 1965) watching and loving the Th...</td>\n",
              "      <td>0</td>\n",
              "      <td>[grew, up, watching, and, loving, the, thunder...</td>\n",
              "      <td>[grew, up, watch, and, love, the, thunderbird,...</td>\n",
              "    </tr>\n",
              "    <tr>\n",
              "      <th>1</th>\n",
              "      <td>When I put this movie in my DVD player, and sa...</td>\n",
              "      <td>0</td>\n",
              "      <td>[when, put, this, movie, in, my, dvd, player, ...</td>\n",
              "      <td>[when, put, thi, movi, in, my, dvd, player, an...</td>\n",
              "    </tr>\n",
              "    <tr>\n",
              "      <th>2</th>\n",
              "      <td>Why do people who do not know what a particula...</td>\n",
              "      <td>0</td>\n",
              "      <td>[why, do, people, who, do, not, know, what, pa...</td>\n",
              "      <td>[why, do, peopl, who, do, not, know, what, par...</td>\n",
              "    </tr>\n",
              "    <tr>\n",
              "      <th>3</th>\n",
              "      <td>Even though I have great interest in Biblical ...</td>\n",
              "      <td>0</td>\n",
              "      <td>[even, though, have, great, interest, in, bibl...</td>\n",
              "      <td>[even, though, have, great, interest, in, bibl...</td>\n",
              "    </tr>\n",
              "    <tr>\n",
              "      <th>4</th>\n",
              "      <td>Im a die hard Dads Army fan and nothing will e...</td>\n",
              "      <td>1</td>\n",
              "      <td>[im, die, hard, dads, army, fan, and, nothing,...</td>\n",
              "      <td>[im, die, hard, dad, armi, fan, and, noth, wil...</td>\n",
              "    </tr>\n",
              "    <tr>\n",
              "      <th>...</th>\n",
              "      <td>...</td>\n",
              "      <td>...</td>\n",
              "      <td>...</td>\n",
              "      <td>...</td>\n",
              "    </tr>\n",
              "    <tr>\n",
              "      <th>39995</th>\n",
              "      <td>\"Western Union\" is something of a forgotten cl...</td>\n",
              "      <td>1</td>\n",
              "      <td>[western, union, is, something, of, forgotten,...</td>\n",
              "      <td>[western, union, is, someth, of, forgotten, cl...</td>\n",
              "    </tr>\n",
              "    <tr>\n",
              "      <th>39996</th>\n",
              "      <td>This movie is an incredible piece of work. It ...</td>\n",
              "      <td>1</td>\n",
              "      <td>[this, movie, is, an, incredible, piece, of, w...</td>\n",
              "      <td>[thi, movi, is, an, incred, piec, of, work, it...</td>\n",
              "    </tr>\n",
              "    <tr>\n",
              "      <th>39997</th>\n",
              "      <td>My wife and I watched this movie because we pl...</td>\n",
              "      <td>0</td>\n",
              "      <td>[my, wife, and, watched, this, movie, because,...</td>\n",
              "      <td>[my, wife, and, watch, thi, movi, becaus, we, ...</td>\n",
              "    </tr>\n",
              "    <tr>\n",
              "      <th>39998</th>\n",
              "      <td>When I first watched Flatliners, I was amazed....</td>\n",
              "      <td>1</td>\n",
              "      <td>[when, first, watched, flatliners, was, amazed...</td>\n",
              "      <td>[when, first, watch, flatlin, wa, amaz, it, ha...</td>\n",
              "    </tr>\n",
              "    <tr>\n",
              "      <th>39999</th>\n",
              "      <td>Why would this film be so good, but only gross...</td>\n",
              "      <td>1</td>\n",
              "      <td>[why, would, this, film, be, so, good, but, on...</td>\n",
              "      <td>[why, would, thi, film, be, so, good, but, onl...</td>\n",
              "    </tr>\n",
              "  </tbody>\n",
              "</table>\n",
              "<p>40000 rows × 4 columns</p>\n",
              "</div>"
            ],
            "text/plain": [
              "                                                    text  ...                                     stemmed_tokens\n",
              "0      I grew up (b. 1965) watching and loving the Th...  ...  [grew, up, watch, and, love, the, thunderbird,...\n",
              "1      When I put this movie in my DVD player, and sa...  ...  [when, put, thi, movi, in, my, dvd, player, an...\n",
              "2      Why do people who do not know what a particula...  ...  [why, do, peopl, who, do, not, know, what, par...\n",
              "3      Even though I have great interest in Biblical ...  ...  [even, though, have, great, interest, in, bibl...\n",
              "4      Im a die hard Dads Army fan and nothing will e...  ...  [im, die, hard, dad, armi, fan, and, noth, wil...\n",
              "...                                                  ...  ...                                                ...\n",
              "39995  \"Western Union\" is something of a forgotten cl...  ...  [western, union, is, someth, of, forgotten, cl...\n",
              "39996  This movie is an incredible piece of work. It ...  ...  [thi, movi, is, an, incred, piec, of, work, it...\n",
              "39997  My wife and I watched this movie because we pl...  ...  [my, wife, and, watch, thi, movi, becaus, we, ...\n",
              "39998  When I first watched Flatliners, I was amazed....  ...  [when, first, watch, flatlin, wa, amaz, it, ha...\n",
              "39999  Why would this film be so good, but only gross...  ...  [why, would, thi, film, be, so, good, but, onl...\n",
              "\n",
              "[40000 rows x 4 columns]"
            ]
          },
          "metadata": {
            "tags": []
          },
          "execution_count": 13
        }
      ]
    },
    {
      "cell_type": "markdown",
      "metadata": {
        "papermill": {
          "duration": 0.017135,
          "end_time": "2021-02-01T05:00:01.358373",
          "exception": false,
          "start_time": "2021-02-01T05:00:01.341238",
          "status": "completed"
        },
        "tags": [],
        "id": "eqy9dfqCPrqX"
      },
      "source": [
        "## Train-Test Split"
      ]
    },
    {
      "cell_type": "code",
      "metadata": {
        "execution": {
          "iopub.execute_input": "2021-02-01T05:00:01.401502Z",
          "iopub.status.busy": "2021-02-01T05:00:01.400730Z",
          "iopub.status.idle": "2021-02-01T05:00:01.425404Z",
          "shell.execute_reply": "2021-02-01T05:00:01.425825Z"
        },
        "papermill": {
          "duration": 0.050324,
          "end_time": "2021-02-01T05:00:01.425955",
          "exception": false,
          "start_time": "2021-02-01T05:00:01.375631",
          "status": "completed"
        },
        "tags": [],
        "colab": {
          "base_uri": "https://localhost:8080/"
        },
        "id": "KxjLX3DdPrqX",
        "outputId": "665c8be1-8eea-418e-88d1-ac2f8d5e11bc"
      },
      "source": [
        "\n",
        "# Train Test Split Function\n",
        "def split_train_test(train_df, test_size=0.3, shuffle_state=True):\n",
        "    X_train, X_test, Y_train, Y_test = train_test_split(train_df[['stemmed_tokens']], \n",
        "                                                        train_df['label'], \n",
        "                                                        shuffle=shuffle_state,\n",
        "                                                        test_size=test_size, \n",
        "                                                        random_state=15)\n",
        "    print(\"Value counts for Train sentiments\")\n",
        "    print(Y_train.value_counts())\n",
        "    print(\"Value counts for Test sentiments\")\n",
        "    print(Y_test.value_counts())\n",
        "    print(type(X_train))\n",
        "    print(type(Y_train))\n",
        "    X_train = X_train.reset_index()\n",
        "    X_test = X_test.reset_index()\n",
        "    Y_train = Y_train.to_frame()\n",
        "    Y_train = Y_train.reset_index()\n",
        "    Y_test = Y_test.to_frame()\n",
        "    Y_test = Y_test.reset_index()\n",
        "    print(X_train.head())\n",
        "    return X_train, X_test, Y_train, Y_test\n",
        "\n",
        "# Call the train_test_split\n",
        "X_train, X_test, Y_train, Y_test = split_train_test(train_df)"
      ],
      "execution_count": null,
      "outputs": [
        {
          "output_type": "stream",
          "text": [
            "Value counts for Train sentiments\n",
            "1    14002\n",
            "0    13998\n",
            "Name: label, dtype: int64\n",
            "Value counts for Test sentiments\n",
            "0    6021\n",
            "1    5979\n",
            "Name: label, dtype: int64\n",
            "<class 'pandas.core.frame.DataFrame'>\n",
            "<class 'pandas.core.series.Series'>\n",
            "   index                                     stemmed_tokens\n",
            "0  30925  [even, though, thi, movi, came, out, year, bef...\n",
            "1  32794  [saw, the, film, yesterdai, and, realli, enjoi...\n",
            "2  26673  [see, that, thoma, howel, ha, appear, in, mani...\n",
            "3   5114  [want, to, like, thi, movi, realli, realli, di...\n",
            "4  31977  [after, view, sever, episod, of, thi, seri, ha...\n"
          ],
          "name": "stdout"
        }
      ]
    },
    {
      "cell_type": "markdown",
      "metadata": {
        "papermill": {
          "duration": 0.017508,
          "end_time": "2021-02-01T05:00:01.461749",
          "exception": false,
          "start_time": "2021-02-01T05:00:01.444241",
          "status": "completed"
        },
        "tags": [],
        "id": "Y61nHW_IPrqY"
      },
      "source": [
        "## Word2Vec Model Creation"
      ]
    },
    {
      "cell_type": "markdown",
      "metadata": {
        "papermill": {
          "duration": 0.017476,
          "end_time": "2021-02-01T05:00:01.497168",
          "exception": false,
          "start_time": "2021-02-01T05:00:01.479692",
          "status": "completed"
        },
        "tags": [],
        "id": "A0ogL9EwPrqZ"
      },
      "source": [
        "**word2vec** algorithm uses a neural network model to learn word associations from a large corpus of text. Once trained, such a model can detect synonymous words or suggest additional words for a partial sentence. As the name implies, word2vec represents each distinct word with a particular list of numbers called a vector. "
      ]
    },
    {
      "cell_type": "code",
      "metadata": {
        "execution": {
          "iopub.execute_input": "2021-02-01T05:00:01.571718Z",
          "iopub.status.busy": "2021-02-01T05:00:01.551224Z",
          "iopub.status.idle": "2021-02-01T05:01:59.091660Z",
          "shell.execute_reply": "2021-02-01T05:01:59.090802Z"
        },
        "papermill": {
          "duration": 117.576898,
          "end_time": "2021-02-01T05:01:59.091812",
          "exception": false,
          "start_time": "2021-02-01T05:00:01.514914",
          "status": "completed"
        },
        "tags": [],
        "colab": {
          "base_uri": "https://localhost:8080/",
          "height": 454
        },
        "id": "0MYGP7IYPrqZ",
        "outputId": "56341d3d-4f68-4574-febd-bc44ae4e395f"
      },
      "source": [
        "size = 500\n",
        "window = 3\n",
        "min_count = 1\n",
        "workers = 3\n",
        "# 0 for CBOW, 1 for skip-gram\n",
        "sg = 0\n",
        "OUTPUT_FOLDER = '/kaggle/working/'\n",
        "# Function to train word2vec model\n",
        "def make_word2vec_model(train_df, padding, sg, min_count, size, workers, window):\n",
        "    if  padding:\n",
        "        #print(len(train))\n",
        "        temp_df = pd.Series(train_df['stemmed_tokens']).values\n",
        "        temp_df = list(temp_df)\n",
        "        temp_df.append(['pad'])\n",
        "        #print(str(size))\n",
        "        word2vec_file = OUTPUT_FOLDER + '2ata' + '_PAD.model'\n",
        "    w2v_model = Word2Vec(temp_df, min_count = min_count, size = size, workers = workers, window = window, sg = sg)\n",
        "\n",
        "    #w2v_model.save(word2vec_file)\n",
        "    return w2v_model, word2vec_file\n",
        "\n",
        "# Train Word2vec model\n",
        "w2vmodel, word2vec_file = make_word2vec_model(train_df, padding=True, sg=sg, min_count=min_count, size=size, workers=workers, window=window)"
      ],
      "execution_count": null,
      "outputs": [
        {
          "output_type": "error",
          "ename": "FileNotFoundError",
          "evalue": "ignored",
          "traceback": [
            "\u001b[0;31m---------------------------------------------------------------------------\u001b[0m",
            "\u001b[0;31mTypeError\u001b[0m                                 Traceback (most recent call last)",
            "\u001b[0;32m/usr/local/lib/python3.7/dist-packages/gensim/utils.py\u001b[0m in \u001b[0;36msave\u001b[0;34m(self, fname_or_handle, separately, sep_limit, ignore, pickle_protocol)\u001b[0m\n\u001b[1;32m    681\u001b[0m         \u001b[0;32mtry\u001b[0m\u001b[0;34m:\u001b[0m\u001b[0;34m\u001b[0m\u001b[0;34m\u001b[0m\u001b[0m\n\u001b[0;32m--> 682\u001b[0;31m             \u001b[0m_pickle\u001b[0m\u001b[0;34m.\u001b[0m\u001b[0mdump\u001b[0m\u001b[0;34m(\u001b[0m\u001b[0mself\u001b[0m\u001b[0;34m,\u001b[0m \u001b[0mfname_or_handle\u001b[0m\u001b[0;34m,\u001b[0m \u001b[0mprotocol\u001b[0m\u001b[0;34m=\u001b[0m\u001b[0mpickle_protocol\u001b[0m\u001b[0;34m)\u001b[0m\u001b[0;34m\u001b[0m\u001b[0;34m\u001b[0m\u001b[0m\n\u001b[0m\u001b[1;32m    683\u001b[0m             \u001b[0mlogger\u001b[0m\u001b[0;34m.\u001b[0m\u001b[0minfo\u001b[0m\u001b[0;34m(\u001b[0m\u001b[0;34m\"saved %s object\"\u001b[0m\u001b[0;34m,\u001b[0m \u001b[0mself\u001b[0m\u001b[0;34m.\u001b[0m\u001b[0m__class__\u001b[0m\u001b[0;34m.\u001b[0m\u001b[0m__name__\u001b[0m\u001b[0;34m)\u001b[0m\u001b[0;34m\u001b[0m\u001b[0;34m\u001b[0m\u001b[0m\n",
            "\u001b[0;31mTypeError\u001b[0m: file must have a 'write' attribute",
            "\nDuring handling of the above exception, another exception occurred:\n",
            "\u001b[0;31mFileNotFoundError\u001b[0m                         Traceback (most recent call last)",
            "\u001b[0;32m<ipython-input-15-732c70a9fe3d>\u001b[0m in \u001b[0;36m<module>\u001b[0;34m()\u001b[0m\n\u001b[1;32m     21\u001b[0m \u001b[0;34m\u001b[0m\u001b[0m\n\u001b[1;32m     22\u001b[0m \u001b[0;31m# Train Word2vec model\u001b[0m\u001b[0;34m\u001b[0m\u001b[0;34m\u001b[0m\u001b[0;34m\u001b[0m\u001b[0m\n\u001b[0;32m---> 23\u001b[0;31m \u001b[0mw2vmodel\u001b[0m\u001b[0;34m,\u001b[0m \u001b[0mword2vec_file\u001b[0m \u001b[0;34m=\u001b[0m \u001b[0mmake_word2vec_model\u001b[0m\u001b[0;34m(\u001b[0m\u001b[0mtrain_df\u001b[0m\u001b[0;34m,\u001b[0m \u001b[0mpadding\u001b[0m\u001b[0;34m=\u001b[0m\u001b[0;32mTrue\u001b[0m\u001b[0;34m,\u001b[0m \u001b[0msg\u001b[0m\u001b[0;34m=\u001b[0m\u001b[0msg\u001b[0m\u001b[0;34m,\u001b[0m \u001b[0mmin_count\u001b[0m\u001b[0;34m=\u001b[0m\u001b[0mmin_count\u001b[0m\u001b[0;34m,\u001b[0m \u001b[0msize\u001b[0m\u001b[0;34m=\u001b[0m\u001b[0msize\u001b[0m\u001b[0;34m,\u001b[0m \u001b[0mworkers\u001b[0m\u001b[0;34m=\u001b[0m\u001b[0mworkers\u001b[0m\u001b[0;34m,\u001b[0m \u001b[0mwindow\u001b[0m\u001b[0;34m=\u001b[0m\u001b[0mwindow\u001b[0m\u001b[0;34m)\u001b[0m\u001b[0;34m\u001b[0m\u001b[0;34m\u001b[0m\u001b[0m\n\u001b[0m",
            "\u001b[0;32m<ipython-input-15-732c70a9fe3d>\u001b[0m in \u001b[0;36mmake_word2vec_model\u001b[0;34m(train_df, padding, sg, min_count, size, workers, window)\u001b[0m\n\u001b[1;32m     17\u001b[0m     \u001b[0mw2v_model\u001b[0m \u001b[0;34m=\u001b[0m \u001b[0mWord2Vec\u001b[0m\u001b[0;34m(\u001b[0m\u001b[0mtemp_df\u001b[0m\u001b[0;34m,\u001b[0m \u001b[0mmin_count\u001b[0m \u001b[0;34m=\u001b[0m \u001b[0mmin_count\u001b[0m\u001b[0;34m,\u001b[0m \u001b[0msize\u001b[0m \u001b[0;34m=\u001b[0m \u001b[0msize\u001b[0m\u001b[0;34m,\u001b[0m \u001b[0mworkers\u001b[0m \u001b[0;34m=\u001b[0m \u001b[0mworkers\u001b[0m\u001b[0;34m,\u001b[0m \u001b[0mwindow\u001b[0m \u001b[0;34m=\u001b[0m \u001b[0mwindow\u001b[0m\u001b[0;34m,\u001b[0m \u001b[0msg\u001b[0m \u001b[0;34m=\u001b[0m \u001b[0msg\u001b[0m\u001b[0;34m)\u001b[0m\u001b[0;34m\u001b[0m\u001b[0;34m\u001b[0m\u001b[0m\n\u001b[1;32m     18\u001b[0m \u001b[0;34m\u001b[0m\u001b[0m\n\u001b[0;32m---> 19\u001b[0;31m     \u001b[0mw2v_model\u001b[0m\u001b[0;34m.\u001b[0m\u001b[0msave\u001b[0m\u001b[0;34m(\u001b[0m\u001b[0mword2vec_file\u001b[0m\u001b[0;34m)\u001b[0m\u001b[0;34m\u001b[0m\u001b[0;34m\u001b[0m\u001b[0m\n\u001b[0m\u001b[1;32m     20\u001b[0m     \u001b[0;32mreturn\u001b[0m \u001b[0mw2v_model\u001b[0m\u001b[0;34m,\u001b[0m \u001b[0mword2vec_file\u001b[0m\u001b[0;34m\u001b[0m\u001b[0;34m\u001b[0m\u001b[0m\n\u001b[1;32m     21\u001b[0m \u001b[0;34m\u001b[0m\u001b[0m\n",
            "\u001b[0;32m/usr/local/lib/python3.7/dist-packages/gensim/models/word2vec.py\u001b[0m in \u001b[0;36msave\u001b[0;34m(self, *args, **kwargs)\u001b[0m\n\u001b[1;32m   1248\u001b[0m         \u001b[0;31m# don't bother storing the cached normalized vectors, recalculable table\u001b[0m\u001b[0;34m\u001b[0m\u001b[0;34m\u001b[0m\u001b[0;34m\u001b[0m\u001b[0m\n\u001b[1;32m   1249\u001b[0m         \u001b[0mkwargs\u001b[0m\u001b[0;34m[\u001b[0m\u001b[0;34m'ignore'\u001b[0m\u001b[0;34m]\u001b[0m \u001b[0;34m=\u001b[0m \u001b[0mkwargs\u001b[0m\u001b[0;34m.\u001b[0m\u001b[0mget\u001b[0m\u001b[0;34m(\u001b[0m\u001b[0;34m'ignore'\u001b[0m\u001b[0;34m,\u001b[0m \u001b[0;34m[\u001b[0m\u001b[0;34m'vectors_norm'\u001b[0m\u001b[0;34m,\u001b[0m \u001b[0;34m'cum_table'\u001b[0m\u001b[0;34m]\u001b[0m\u001b[0;34m)\u001b[0m\u001b[0;34m\u001b[0m\u001b[0;34m\u001b[0m\u001b[0m\n\u001b[0;32m-> 1250\u001b[0;31m         \u001b[0msuper\u001b[0m\u001b[0;34m(\u001b[0m\u001b[0mWord2Vec\u001b[0m\u001b[0;34m,\u001b[0m \u001b[0mself\u001b[0m\u001b[0;34m)\u001b[0m\u001b[0;34m.\u001b[0m\u001b[0msave\u001b[0m\u001b[0;34m(\u001b[0m\u001b[0;34m*\u001b[0m\u001b[0margs\u001b[0m\u001b[0;34m,\u001b[0m \u001b[0;34m**\u001b[0m\u001b[0mkwargs\u001b[0m\u001b[0;34m)\u001b[0m\u001b[0;34m\u001b[0m\u001b[0;34m\u001b[0m\u001b[0m\n\u001b[0m\u001b[1;32m   1251\u001b[0m \u001b[0;34m\u001b[0m\u001b[0m\n\u001b[1;32m   1252\u001b[0m     \u001b[0;32mdef\u001b[0m \u001b[0mget_latest_training_loss\u001b[0m\u001b[0;34m(\u001b[0m\u001b[0mself\u001b[0m\u001b[0;34m)\u001b[0m\u001b[0;34m:\u001b[0m\u001b[0;34m\u001b[0m\u001b[0;34m\u001b[0m\u001b[0m\n",
            "\u001b[0;32m/usr/local/lib/python3.7/dist-packages/gensim/models/base_any2vec.py\u001b[0m in \u001b[0;36msave\u001b[0;34m(self, fname_or_handle, **kwargs)\u001b[0m\n\u001b[1;32m    619\u001b[0m \u001b[0;34m\u001b[0m\u001b[0m\n\u001b[1;32m    620\u001b[0m         \"\"\"\n\u001b[0;32m--> 621\u001b[0;31m         \u001b[0msuper\u001b[0m\u001b[0;34m(\u001b[0m\u001b[0mBaseAny2VecModel\u001b[0m\u001b[0;34m,\u001b[0m \u001b[0mself\u001b[0m\u001b[0;34m)\u001b[0m\u001b[0;34m.\u001b[0m\u001b[0msave\u001b[0m\u001b[0;34m(\u001b[0m\u001b[0mfname_or_handle\u001b[0m\u001b[0;34m,\u001b[0m \u001b[0;34m**\u001b[0m\u001b[0mkwargs\u001b[0m\u001b[0;34m)\u001b[0m\u001b[0;34m\u001b[0m\u001b[0;34m\u001b[0m\u001b[0m\n\u001b[0m\u001b[1;32m    622\u001b[0m \u001b[0;34m\u001b[0m\u001b[0m\n\u001b[1;32m    623\u001b[0m \u001b[0;34m\u001b[0m\u001b[0m\n",
            "\u001b[0;32m/usr/local/lib/python3.7/dist-packages/gensim/utils.py\u001b[0m in \u001b[0;36msave\u001b[0;34m(self, fname_or_handle, separately, sep_limit, ignore, pickle_protocol)\u001b[0m\n\u001b[1;32m    683\u001b[0m             \u001b[0mlogger\u001b[0m\u001b[0;34m.\u001b[0m\u001b[0minfo\u001b[0m\u001b[0;34m(\u001b[0m\u001b[0;34m\"saved %s object\"\u001b[0m\u001b[0;34m,\u001b[0m \u001b[0mself\u001b[0m\u001b[0;34m.\u001b[0m\u001b[0m__class__\u001b[0m\u001b[0;34m.\u001b[0m\u001b[0m__name__\u001b[0m\u001b[0;34m)\u001b[0m\u001b[0;34m\u001b[0m\u001b[0;34m\u001b[0m\u001b[0m\n\u001b[1;32m    684\u001b[0m         \u001b[0;32mexcept\u001b[0m \u001b[0mTypeError\u001b[0m\u001b[0;34m:\u001b[0m  \u001b[0;31m# `fname_or_handle` does not have write attribute\u001b[0m\u001b[0;34m\u001b[0m\u001b[0;34m\u001b[0m\u001b[0m\n\u001b[0;32m--> 685\u001b[0;31m             \u001b[0mself\u001b[0m\u001b[0;34m.\u001b[0m\u001b[0m_smart_save\u001b[0m\u001b[0;34m(\u001b[0m\u001b[0mfname_or_handle\u001b[0m\u001b[0;34m,\u001b[0m \u001b[0mseparately\u001b[0m\u001b[0;34m,\u001b[0m \u001b[0msep_limit\u001b[0m\u001b[0;34m,\u001b[0m \u001b[0mignore\u001b[0m\u001b[0;34m,\u001b[0m \u001b[0mpickle_protocol\u001b[0m\u001b[0;34m=\u001b[0m\u001b[0mpickle_protocol\u001b[0m\u001b[0;34m)\u001b[0m\u001b[0;34m\u001b[0m\u001b[0;34m\u001b[0m\u001b[0m\n\u001b[0m\u001b[1;32m    686\u001b[0m \u001b[0;34m\u001b[0m\u001b[0m\n\u001b[1;32m    687\u001b[0m \u001b[0;34m\u001b[0m\u001b[0m\n",
            "\u001b[0;32m/usr/local/lib/python3.7/dist-packages/gensim/utils.py\u001b[0m in \u001b[0;36m_smart_save\u001b[0;34m(self, fname, separately, sep_limit, ignore, pickle_protocol)\u001b[0m\n\u001b[1;32m    537\u001b[0m \u001b[0;34m\u001b[0m\u001b[0m\n\u001b[1;32m    538\u001b[0m         restores = self._save_specials(fname, separately, sep_limit, ignore, pickle_protocol,\n\u001b[0;32m--> 539\u001b[0;31m                                        compress, subname)\n\u001b[0m\u001b[1;32m    540\u001b[0m         \u001b[0;32mtry\u001b[0m\u001b[0;34m:\u001b[0m\u001b[0;34m\u001b[0m\u001b[0;34m\u001b[0m\u001b[0m\n\u001b[1;32m    541\u001b[0m             \u001b[0mpickle\u001b[0m\u001b[0;34m(\u001b[0m\u001b[0mself\u001b[0m\u001b[0;34m,\u001b[0m \u001b[0mfname\u001b[0m\u001b[0;34m,\u001b[0m \u001b[0mprotocol\u001b[0m\u001b[0;34m=\u001b[0m\u001b[0mpickle_protocol\u001b[0m\u001b[0;34m)\u001b[0m\u001b[0;34m\u001b[0m\u001b[0;34m\u001b[0m\u001b[0m\n",
            "\u001b[0;32m/usr/local/lib/python3.7/dist-packages/gensim/utils.py\u001b[0m in \u001b[0;36m_save_specials\u001b[0;34m(self, fname, separately, sep_limit, ignore, pickle_protocol, compress, subname)\u001b[0m\n\u001b[1;32m    597\u001b[0m                 \u001b[0mrecursive_saveloads\u001b[0m\u001b[0;34m.\u001b[0m\u001b[0mappend\u001b[0m\u001b[0;34m(\u001b[0m\u001b[0mattrib\u001b[0m\u001b[0;34m)\u001b[0m\u001b[0;34m\u001b[0m\u001b[0;34m\u001b[0m\u001b[0m\n\u001b[1;32m    598\u001b[0m                 \u001b[0mcfname\u001b[0m \u001b[0;34m=\u001b[0m \u001b[0;34m'.'\u001b[0m\u001b[0;34m.\u001b[0m\u001b[0mjoin\u001b[0m\u001b[0;34m(\u001b[0m\u001b[0;34m(\u001b[0m\u001b[0mfname\u001b[0m\u001b[0;34m,\u001b[0m \u001b[0mattrib\u001b[0m\u001b[0;34m)\u001b[0m\u001b[0;34m)\u001b[0m\u001b[0;34m\u001b[0m\u001b[0;34m\u001b[0m\u001b[0m\n\u001b[0;32m--> 599\u001b[0;31m                 \u001b[0mrestores\u001b[0m\u001b[0;34m.\u001b[0m\u001b[0mextend\u001b[0m\u001b[0;34m(\u001b[0m\u001b[0mval\u001b[0m\u001b[0;34m.\u001b[0m\u001b[0m_save_specials\u001b[0m\u001b[0;34m(\u001b[0m\u001b[0mcfname\u001b[0m\u001b[0;34m,\u001b[0m \u001b[0;32mNone\u001b[0m\u001b[0;34m,\u001b[0m \u001b[0msep_limit\u001b[0m\u001b[0;34m,\u001b[0m \u001b[0mignore\u001b[0m\u001b[0;34m,\u001b[0m \u001b[0mpickle_protocol\u001b[0m\u001b[0;34m,\u001b[0m \u001b[0mcompress\u001b[0m\u001b[0;34m,\u001b[0m \u001b[0msubname\u001b[0m\u001b[0;34m)\u001b[0m\u001b[0;34m)\u001b[0m\u001b[0;34m\u001b[0m\u001b[0;34m\u001b[0m\u001b[0m\n\u001b[0m\u001b[1;32m    600\u001b[0m \u001b[0;34m\u001b[0m\u001b[0m\n\u001b[1;32m    601\u001b[0m         \u001b[0;32mtry\u001b[0m\u001b[0;34m:\u001b[0m\u001b[0;34m\u001b[0m\u001b[0;34m\u001b[0m\u001b[0m\n",
            "\u001b[0;32m/usr/local/lib/python3.7/dist-packages/gensim/utils.py\u001b[0m in \u001b[0;36m_save_specials\u001b[0;34m(self, fname, separately, sep_limit, ignore, pickle_protocol, compress, subname)\u001b[0m\n\u001b[1;32m    609\u001b[0m                         \u001b[0mnp\u001b[0m\u001b[0;34m.\u001b[0m\u001b[0msavez_compressed\u001b[0m\u001b[0;34m(\u001b[0m\u001b[0msubname\u001b[0m\u001b[0;34m(\u001b[0m\u001b[0mfname\u001b[0m\u001b[0;34m,\u001b[0m \u001b[0mattrib\u001b[0m\u001b[0;34m)\u001b[0m\u001b[0;34m,\u001b[0m \u001b[0mval\u001b[0m\u001b[0;34m=\u001b[0m\u001b[0mnp\u001b[0m\u001b[0;34m.\u001b[0m\u001b[0mascontiguousarray\u001b[0m\u001b[0;34m(\u001b[0m\u001b[0mval\u001b[0m\u001b[0;34m)\u001b[0m\u001b[0;34m)\u001b[0m\u001b[0;34m\u001b[0m\u001b[0;34m\u001b[0m\u001b[0m\n\u001b[1;32m    610\u001b[0m                     \u001b[0;32melse\u001b[0m\u001b[0;34m:\u001b[0m\u001b[0;34m\u001b[0m\u001b[0;34m\u001b[0m\u001b[0m\n\u001b[0;32m--> 611\u001b[0;31m                         \u001b[0mnp\u001b[0m\u001b[0;34m.\u001b[0m\u001b[0msave\u001b[0m\u001b[0;34m(\u001b[0m\u001b[0msubname\u001b[0m\u001b[0;34m(\u001b[0m\u001b[0mfname\u001b[0m\u001b[0;34m,\u001b[0m \u001b[0mattrib\u001b[0m\u001b[0;34m)\u001b[0m\u001b[0;34m,\u001b[0m \u001b[0mnp\u001b[0m\u001b[0;34m.\u001b[0m\u001b[0mascontiguousarray\u001b[0m\u001b[0;34m(\u001b[0m\u001b[0mval\u001b[0m\u001b[0;34m)\u001b[0m\u001b[0;34m)\u001b[0m\u001b[0;34m\u001b[0m\u001b[0;34m\u001b[0m\u001b[0m\n\u001b[0m\u001b[1;32m    612\u001b[0m \u001b[0;34m\u001b[0m\u001b[0m\n\u001b[1;32m    613\u001b[0m                 \u001b[0;32melif\u001b[0m \u001b[0misinstance\u001b[0m\u001b[0;34m(\u001b[0m\u001b[0mval\u001b[0m\u001b[0;34m,\u001b[0m \u001b[0;34m(\u001b[0m\u001b[0mscipy\u001b[0m\u001b[0;34m.\u001b[0m\u001b[0msparse\u001b[0m\u001b[0;34m.\u001b[0m\u001b[0mcsr_matrix\u001b[0m\u001b[0;34m,\u001b[0m \u001b[0mscipy\u001b[0m\u001b[0;34m.\u001b[0m\u001b[0msparse\u001b[0m\u001b[0;34m.\u001b[0m\u001b[0mcsc_matrix\u001b[0m\u001b[0;34m)\u001b[0m\u001b[0;34m)\u001b[0m \u001b[0;32mand\u001b[0m \u001b[0mattrib\u001b[0m \u001b[0;32mnot\u001b[0m \u001b[0;32min\u001b[0m \u001b[0mignore\u001b[0m\u001b[0;34m:\u001b[0m\u001b[0;34m\u001b[0m\u001b[0;34m\u001b[0m\u001b[0m\n",
            "\u001b[0;32m<__array_function__ internals>\u001b[0m in \u001b[0;36msave\u001b[0;34m(*args, **kwargs)\u001b[0m\n",
            "\u001b[0;32m/usr/local/lib/python3.7/dist-packages/numpy/lib/npyio.py\u001b[0m in \u001b[0;36msave\u001b[0;34m(file, arr, allow_pickle, fix_imports)\u001b[0m\n\u001b[1;32m    522\u001b[0m         \u001b[0;32mif\u001b[0m \u001b[0;32mnot\u001b[0m \u001b[0mfile\u001b[0m\u001b[0;34m.\u001b[0m\u001b[0mendswith\u001b[0m\u001b[0;34m(\u001b[0m\u001b[0;34m'.npy'\u001b[0m\u001b[0;34m)\u001b[0m\u001b[0;34m:\u001b[0m\u001b[0;34m\u001b[0m\u001b[0;34m\u001b[0m\u001b[0m\n\u001b[1;32m    523\u001b[0m             \u001b[0mfile\u001b[0m \u001b[0;34m=\u001b[0m \u001b[0mfile\u001b[0m \u001b[0;34m+\u001b[0m \u001b[0;34m'.npy'\u001b[0m\u001b[0;34m\u001b[0m\u001b[0;34m\u001b[0m\u001b[0m\n\u001b[0;32m--> 524\u001b[0;31m         \u001b[0mfile_ctx\u001b[0m \u001b[0;34m=\u001b[0m \u001b[0mopen\u001b[0m\u001b[0;34m(\u001b[0m\u001b[0mfile\u001b[0m\u001b[0;34m,\u001b[0m \u001b[0;34m\"wb\"\u001b[0m\u001b[0;34m)\u001b[0m\u001b[0;34m\u001b[0m\u001b[0;34m\u001b[0m\u001b[0m\n\u001b[0m\u001b[1;32m    525\u001b[0m \u001b[0;34m\u001b[0m\u001b[0m\n\u001b[1;32m    526\u001b[0m     \u001b[0;32mwith\u001b[0m \u001b[0mfile_ctx\u001b[0m \u001b[0;32mas\u001b[0m \u001b[0mfid\u001b[0m\u001b[0;34m:\u001b[0m\u001b[0;34m\u001b[0m\u001b[0;34m\u001b[0m\u001b[0m\n",
            "\u001b[0;31mFileNotFoundError\u001b[0m: [Errno 2] No such file or directory: '/kaggle/working/2ata_PAD.model.wv.vectors.npy'"
          ]
        }
      ]
    },
    {
      "cell_type": "markdown",
      "metadata": {
        "papermill": {
          "duration": 0.017826,
          "end_time": "2021-02-01T05:01:59.128451",
          "exception": false,
          "start_time": "2021-02-01T05:01:59.110625",
          "status": "completed"
        },
        "tags": [],
        "id": "2uKaNf21Prqa"
      },
      "source": [
        "## Padding"
      ]
    },
    {
      "cell_type": "markdown",
      "metadata": {
        "papermill": {
          "duration": 0.017726,
          "end_time": "2021-02-01T05:01:59.164016",
          "exception": false,
          "start_time": "2021-02-01T05:01:59.146290",
          "status": "completed"
        },
        "tags": [],
        "id": "eailXT7kPrqa"
      },
      "source": [
        "All the neural networks require to have inputs that have the same shape and size. However, when we pre-process and use the texts as inputs for our model e.g. LSTM, not all the sentences have the same length. In other words, naturally, some of the sentences are longer or shorter. We need to have the inputs with the same size, this is where the padding is necessary.\n",
        "**Padding** will make all sentences of same length by inserting 0 in the end or bigenning of the sentences"
      ]
    },
    {
      "cell_type": "code",
      "metadata": {
        "execution": {
          "iopub.execute_input": "2021-02-01T05:01:59.222785Z",
          "iopub.status.busy": "2021-02-01T05:01:59.221973Z",
          "iopub.status.idle": "2021-02-01T05:01:59.226769Z",
          "shell.execute_reply": "2021-02-01T05:01:59.226247Z"
        },
        "papermill": {
          "duration": 0.044877,
          "end_time": "2021-02-01T05:01:59.226871",
          "exception": false,
          "start_time": "2021-02-01T05:01:59.181994",
          "status": "completed"
        },
        "tags": [],
        "id": "SZAtDGPbPrqa",
        "outputId": "d79fdcc1-fc73-4983-e5db-70a1aad68cae"
      },
      "source": [
        "max_sen_len = train_df.stemmed_tokens.map(len).max()\n",
        "\n",
        "padding_idx = w2vmodel.wv.vocab['pad'].index\n",
        "print(padding_idx)\n",
        "def make_word2vec_vector_cnn(sentence):\n",
        "    padded_X = [padding_idx for i in range(max_sen_len)]\n",
        "    i = 0\n",
        "    for word in sentence:\n",
        "        if word not in w2vmodel.wv.vocab:\n",
        "            padded_X[i] = 0\n",
        "        else:\n",
        "            padded_X[i] = w2vmodel.wv.vocab[word].index\n",
        "        i += 1\n",
        "    return torch.tensor(padded_X, dtype=torch.long, device=device).view(1, -1)"
      ],
      "execution_count": null,
      "outputs": [
        {
          "output_type": "stream",
          "text": [
            "2967\n"
          ],
          "name": "stdout"
        }
      ]
    },
    {
      "cell_type": "code",
      "metadata": {
        "execution": {
          "iopub.execute_input": "2021-02-01T05:01:59.267107Z",
          "iopub.status.busy": "2021-02-01T05:01:59.266237Z",
          "iopub.status.idle": "2021-02-01T05:01:59.269900Z",
          "shell.execute_reply": "2021-02-01T05:01:59.269499Z"
        },
        "papermill": {
          "duration": 0.025094,
          "end_time": "2021-02-01T05:01:59.270003",
          "exception": false,
          "start_time": "2021-02-01T05:01:59.244909",
          "status": "completed"
        },
        "tags": [],
        "id": "92QCoM01Prqa",
        "outputId": "3b5090fe-db77-45f4-9d12-85389455ce30"
      },
      "source": [
        "max_sen_len"
      ],
      "execution_count": null,
      "outputs": [
        {
          "output_type": "execute_result",
          "data": {
            "text/plain": [
              "2380"
            ]
          },
          "metadata": {
            "tags": []
          },
          "execution_count": 11
        }
      ]
    },
    {
      "cell_type": "code",
      "metadata": {
        "execution": {
          "iopub.execute_input": "2021-02-01T05:01:59.311046Z",
          "iopub.status.busy": "2021-02-01T05:01:59.310323Z",
          "iopub.status.idle": "2021-02-01T05:01:59.313527Z",
          "shell.execute_reply": "2021-02-01T05:01:59.313935Z"
        },
        "papermill": {
          "duration": 0.025654,
          "end_time": "2021-02-01T05:01:59.314047",
          "exception": false,
          "start_time": "2021-02-01T05:01:59.288393",
          "status": "completed"
        },
        "tags": [],
        "id": "XCqLqCHSPrqb",
        "outputId": "7b92d483-a06a-4995-c8ff-c78de7b45a59"
      },
      "source": [
        "padding_idx"
      ],
      "execution_count": null,
      "outputs": [
        {
          "output_type": "execute_result",
          "data": {
            "text/plain": [
              "2967"
            ]
          },
          "metadata": {
            "tags": []
          },
          "execution_count": 12
        }
      ]
    },
    {
      "cell_type": "markdown",
      "metadata": {
        "papermill": {
          "duration": 0.018659,
          "end_time": "2021-02-01T05:01:59.351560",
          "exception": false,
          "start_time": "2021-02-01T05:01:59.332901",
          "status": "completed"
        },
        "tags": [],
        "id": "v6ODWVYFPrqb"
      },
      "source": [
        "## CNN model "
      ]
    },
    {
      "cell_type": "code",
      "metadata": {
        "execution": {
          "iopub.execute_input": "2021-02-01T05:01:59.744928Z",
          "iopub.status.busy": "2021-02-01T05:01:59.744095Z",
          "iopub.status.idle": "2021-02-01T05:01:59.747856Z",
          "shell.execute_reply": "2021-02-01T05:01:59.747436Z"
        },
        "papermill": {
          "duration": 0.377412,
          "end_time": "2021-02-01T05:01:59.747977",
          "exception": false,
          "start_time": "2021-02-01T05:01:59.370565",
          "status": "completed"
        },
        "tags": [],
        "id": "jhIsD_u6Prqb",
        "outputId": "69b74536-cfe6-4dcc-b416-d46bf7ac0e80"
      },
      "source": [
        "device = torch.device(\"cuda\" if torch.cuda.is_available() else \"cpu\")\n",
        "device"
      ],
      "execution_count": null,
      "outputs": [
        {
          "output_type": "execute_result",
          "data": {
            "text/plain": [
              "device(type='cuda')"
            ]
          },
          "metadata": {
            "tags": []
          },
          "execution_count": 13
        }
      ]
    },
    {
      "cell_type": "code",
      "metadata": {
        "execution": {
          "iopub.execute_input": "2021-02-01T05:01:59.797076Z",
          "iopub.status.busy": "2021-02-01T05:01:59.796297Z",
          "iopub.status.idle": "2021-02-01T05:01:59.798940Z",
          "shell.execute_reply": "2021-02-01T05:01:59.798450Z"
        },
        "papermill": {
          "duration": 0.031464,
          "end_time": "2021-02-01T05:01:59.799039",
          "exception": false,
          "start_time": "2021-02-01T05:01:59.767575",
          "status": "completed"
        },
        "tags": [],
        "id": "_KVKyJ9-Prqb"
      },
      "source": [
        "EMBEDDING_SIZE = 500\n",
        "NUM_FILTERS = 10\n",
        "\n",
        "#torch.nn.Conv2d(in_channels: int, out_channels: int, kernel_size: Union[T, Tuple[T, T]], \n",
        "#stride: Union[T, Tuple[T, T]] = 1, padding: Union[T, Tuple[T, T]] = 0, \n",
        "#dilation: Union[T, Tuple[T, T]] = 1, groups: int = 1, bias: bool = True, padding_mode: str = 'zeros')\n",
        "\n",
        "class CnnTextClassifier(nn.Module):\n",
        "    def __init__(self, vocab_size, num_classes, window_sizes=(1,2,3,5)):\n",
        "        super(CnnTextClassifier, self).__init__()\n",
        "        w2vmodel = gensim.models.KeyedVectors.load(OUTPUT_FOLDER + '2ata_PAD.model')\n",
        "        weights = w2vmodel.wv\n",
        "        # With pretrained embeddings\n",
        "        self.embedding = nn.Embedding.from_pretrained(torch.FloatTensor(weights.vectors), padding_idx=w2vmodel.wv.vocab['pad'].index)\n",
        "        \n",
        "        # like a python list, it was designed to store any desired number of nn.Module\n",
        "        self.convs = nn.ModuleList([\n",
        "                                   nn.Conv2d(1, NUM_FILTERS, [window_size, EMBEDDING_SIZE], padding=(window_size - 1, 0))\n",
        "                                   for window_size in window_sizes\n",
        "        ])\n",
        "    \n",
        "        self.fc = nn.Linear(NUM_FILTERS * len(window_sizes), num_classes)\n",
        "\n",
        "    def forward(self, x):\n",
        "        x = self.embedding(x) # [B, T, E]\n",
        "\n",
        "        # Apply a convolution + max_pool layer for each window size\n",
        "        x = torch.unsqueeze(x, 1)\n",
        "        xs = []\n",
        "        for conv in self.convs:\n",
        "            x2 = torch.tanh(conv(x))\n",
        "            x2 = torch.squeeze(x2, -1)\n",
        "            x2 = F.max_pool1d(x2, x2.size(2))\n",
        "            xs.append(x2)\n",
        "        x = torch.cat(xs, 2)\n",
        "\n",
        "        # FC\n",
        "        x = x.view(x.size(0), -1)\n",
        "        logits = self.fc(x)\n",
        "\n",
        "        probs = F.softmax(logits, dim = 1)\n",
        "\n",
        "        return probs"
      ],
      "execution_count": null,
      "outputs": []
    },
    {
      "cell_type": "code",
      "metadata": {
        "execution": {
          "iopub.execute_input": "2021-02-01T05:01:59.842122Z",
          "iopub.status.busy": "2021-02-01T05:01:59.841483Z",
          "iopub.status.idle": "2021-02-01T05:01:59.844269Z",
          "shell.execute_reply": "2021-02-01T05:01:59.843821Z"
        },
        "papermill": {
          "duration": 0.026038,
          "end_time": "2021-02-01T05:01:59.844386",
          "exception": false,
          "start_time": "2021-02-01T05:01:59.818348",
          "status": "completed"
        },
        "tags": [],
        "id": "f2Y5Zi3UPrqc"
      },
      "source": [
        "def make_target(label):\n",
        "    if label == 0:\n",
        "        return torch.tensor([0], dtype=torch.long, device=device)\n",
        "    elif label == 1:\n",
        "        return torch.tensor([1], dtype=torch.long, device=device)"
      ],
      "execution_count": null,
      "outputs": []
    },
    {
      "cell_type": "markdown",
      "metadata": {
        "papermill": {
          "duration": 0.01963,
          "end_time": "2021-02-01T05:01:59.883419",
          "exception": false,
          "start_time": "2021-02-01T05:01:59.863789",
          "status": "completed"
        },
        "tags": [],
        "id": "ZbfTWpYBPrqc"
      },
      "source": [
        "## Train the model"
      ]
    },
    {
      "cell_type": "code",
      "metadata": {
        "execution": {
          "iopub.execute_input": "2021-02-01T05:01:59.928242Z",
          "iopub.status.busy": "2021-02-01T05:01:59.927449Z",
          "iopub.status.idle": "2021-02-01T05:02:05.057897Z",
          "shell.execute_reply": "2021-02-01T05:02:05.057007Z"
        },
        "papermill": {
          "duration": 5.154448,
          "end_time": "2021-02-01T05:02:05.058040",
          "exception": false,
          "start_time": "2021-02-01T05:01:59.903592",
          "status": "completed"
        },
        "tags": [],
        "id": "uOLwCpUrPrqd",
        "outputId": "be36ad59-bac1-4989-a2c0-79e724f7a931"
      },
      "source": [
        "NUM_CLASSES = 2\n",
        "VOCAB_SIZE = len(w2vmodel.wv.vocab)\n",
        "print(VOCAB_SIZE)\n",
        "cnn_model = CnnTextClassifier(vocab_size=VOCAB_SIZE, num_classes=NUM_CLASSES)\n",
        "cnn_model.to(device)\n",
        "loss_function = nn.CrossEntropyLoss()\n",
        "optimizer = optim.Adam(cnn_model.parameters(), lr=0.0001)\n",
        "num_epochs = 5"
      ],
      "execution_count": null,
      "outputs": [
        {
          "output_type": "stream",
          "text": [
            "62518\n"
          ],
          "name": "stdout"
        }
      ]
    },
    {
      "cell_type": "code",
      "metadata": {
        "execution": {
          "iopub.execute_input": "2021-02-01T05:02:05.107964Z",
          "iopub.status.busy": "2021-02-01T05:02:05.107216Z",
          "iopub.status.idle": "2021-02-01T05:22:11.863127Z",
          "shell.execute_reply": "2021-02-01T05:22:11.863712Z"
        },
        "papermill": {
          "duration": 1206.785601,
          "end_time": "2021-02-01T05:22:11.863925",
          "exception": false,
          "start_time": "2021-02-01T05:02:05.078324",
          "status": "completed"
        },
        "tags": [],
        "id": "UBaaSYrxPrqd",
        "outputId": "4d362b85-916e-4701-9f76-9dc14d3ecea5"
      },
      "source": [
        "# Open the file for writing loss\n",
        "loss_file_name = OUTPUT_FOLDER + '1cnn_class_big_loss_with_padding.csv'\n",
        "f = open(loss_file_name,'w')\n",
        "f.write('iter, loss')\n",
        "f.write('\\n')\n",
        "losses = []\n",
        "\n",
        "cnn_model.train()\n",
        "for epoch in range(num_epochs):\n",
        "    print(\"Epoch\" + str(epoch + 1))\n",
        "    train_loss = 0\n",
        "\n",
        "    for index, row in X_train.iterrows():\n",
        "        # Clearing the accumulated gradients\n",
        "        cnn_model.zero_grad()\n",
        "\n",
        "        # Make the bag of words vector for stemmed tokens \n",
        "        bow_vec = make_word2vec_vector_cnn(row['stemmed_tokens'])\n",
        "       \n",
        "        # Forward pass to get output\n",
        "        probs = cnn_model(bow_vec)\n",
        "\n",
        "        # Get the target label\n",
        "        #print(Y_train['label'][index])\n",
        "        target = make_target(Y_train['label'][index])\n",
        "\n",
        "        # Calculate Loss: softmax --> cross entropy loss\n",
        "        loss = loss_function(probs, target)\n",
        "        train_loss += loss.item()\n",
        "        \n",
        "\n",
        "        # Getting gradients w.r.t. parameters\n",
        "        loss.backward()\n",
        "\n",
        "        # Updating parameters\n",
        "        optimizer.step()\n",
        "\n",
        "    print(f'train_loss : {train_loss / len(X_train)}')\n",
        "    print(\"Epoch ran :\"+ str(epoch+1))\n",
        "    \n",
        "    f.write(str((epoch+1)) + \",\" + str(train_loss / len(X_train)))\n",
        "    f.write('\\n')\n",
        "    train_loss = 0\n",
        "\n",
        "torch.save(cnn_model, OUTPUT_FOLDER + 'cnn_big_model_500_with_padding.pth')\n",
        "\n",
        "f.close()\n",
        "print(\"Input vector\")\n",
        "print(\"Probs\")\n",
        "print(probs)\n",
        "print(torch.argmax(probs, dim=1).cpu().numpy()[0])"
      ],
      "execution_count": null,
      "outputs": [
        {
          "output_type": "stream",
          "text": [
            "Epoch1\n",
            "train_loss : 0.5036109324991703\n",
            "Epoch ran :1\n",
            "Epoch2\n",
            "train_loss : 0.43828793318782533\n",
            "Epoch ran :2\n",
            "Epoch3\n",
            "train_loss : 0.4216930166397776\n",
            "Epoch ran :3\n",
            "Epoch4\n",
            "train_loss : 0.4101412386149168\n",
            "Epoch ran :4\n",
            "Epoch5\n",
            "train_loss : 0.39909448505512307\n",
            "Epoch ran :5\n",
            "Input vector\n",
            "Probs\n",
            "tensor([[0.0144, 0.9856]], device='cuda:0', grad_fn=<SoftmaxBackward>)\n",
            "1\n"
          ],
          "name": "stdout"
        }
      ]
    },
    {
      "cell_type": "markdown",
      "metadata": {
        "papermill": {
          "duration": 0.021574,
          "end_time": "2021-02-01T05:22:11.908648",
          "exception": false,
          "start_time": "2021-02-01T05:22:11.887074",
          "status": "completed"
        },
        "tags": [],
        "id": "OK-xJXPxPrqf"
      },
      "source": [
        "## Model Test"
      ]
    },
    {
      "cell_type": "code",
      "metadata": {
        "execution": {
          "iopub.execute_input": "2021-02-01T05:22:11.965675Z",
          "iopub.status.busy": "2021-02-01T05:22:11.965001Z",
          "iopub.status.idle": "2021-02-01T05:23:01.918498Z",
          "shell.execute_reply": "2021-02-01T05:23:01.918911Z"
        },
        "papermill": {
          "duration": 49.988305,
          "end_time": "2021-02-01T05:23:01.919057",
          "exception": false,
          "start_time": "2021-02-01T05:22:11.930752",
          "status": "completed"
        },
        "tags": [],
        "id": "zOkIjLXfPrqi",
        "outputId": "fcb08291-4a67-4713-cc42-81ab8fcf8805"
      },
      "source": [
        "bow_cnn_predictions = []\n",
        "original_lables_cnn_bow = []\n",
        "cnn_model.eval()\n",
        "loss_df = pd.read_csv(OUTPUT_FOLDER + '1cnn_class_big_loss_with_padding.csv')\n",
        "print(loss_df.columns)\n",
        "# loss_df.plot('loss')\n",
        "\n",
        "y_pred_list = []\n",
        "y_true_list = []\n",
        "\n",
        "with torch.no_grad():\n",
        "    for index, row in X_test.iterrows():\n",
        "        #print(row['stemmed_tokens'])\n",
        "        bow_vec = make_word2vec_vector_cnn(row['stemmed_tokens'])\n",
        "        #print(bow_vec)\n",
        "        probs = cnn_model(bow_vec)\n",
        "        #print(probs.data)\n",
        "        _, predicted = torch.max(probs.data,  1)\n",
        "        \n",
        "        bow_cnn_predictions.append(predicted.cpu().numpy()[0])\n",
        "        original_lables_cnn_bow.append(make_target(Y_test['label'][index]).cpu().numpy()[0])\n",
        "\n",
        "print(confusion_matrix(original_lables_cnn_bow, bow_cnn_predictions))\n",
        "#print(original_lables_cnn_bow)\n",
        "print(classification_report(original_lables_cnn_bow,bow_cnn_predictions))\n",
        "loss_file_name = OUTPUT_FOLDER + '1cnn_class_big_loss_with_padding.csv'\n",
        "loss_df = pd.read_csv(loss_file_name)\n",
        "print(loss_df.columns)\n",
        "plt_500_padding_30_epochs = loss_df[' loss'].plot()\n",
        "fig = plt_500_padding_30_epochs.get_figure()\n",
        "fig.savefig(OUTPUT_FOLDER + '1loss_plt_500_padding_30_epochs.pdf')"
      ],
      "execution_count": null,
      "outputs": [
        {
          "output_type": "stream",
          "text": [
            "Index(['iter', ' loss'], dtype='object')\n",
            "[[5404  617]\n",
            " [ 828 5151]]\n",
            "              precision    recall  f1-score   support\n",
            "\n",
            "           0       0.87      0.90      0.88      6021\n",
            "           1       0.89      0.86      0.88      5979\n",
            "\n",
            "    accuracy                           0.88     12000\n",
            "   macro avg       0.88      0.88      0.88     12000\n",
            "weighted avg       0.88      0.88      0.88     12000\n",
            "\n",
            "Index(['iter', ' loss'], dtype='object')\n"
          ],
          "name": "stdout"
        },
        {
          "output_type": "display_data",
          "data": {
            "image/png": "[encoded data removed]",
            "text/plain": [
              "<Figure size 432x288 with 1 Axes>"
            ]
          },
          "metadata": {
            "tags": [],
            "needs_background": "light"
          }
        }
      ]
    }
  ]
}